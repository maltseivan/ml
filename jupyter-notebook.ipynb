{
 "cells": [
  {
   "cell_type": "markdown",
   "id": "5bc47860",
   "metadata": {},
   "source": [
    "### Магия"
   ]
  },
  {
   "cell_type": "code",
   "execution_count": 1,
   "id": "5618d1e4",
   "metadata": {},
   "outputs": [
    {
     "data": {
      "application/json": {
       "cell": {
        "!": "OSMagics",
        "HTML": "Other",
        "SVG": "Other",
        "bash": "Other",
        "capture": "ExecutionMagics",
        "debug": "ExecutionMagics",
        "file": "Other",
        "html": "DisplayMagics",
        "javascript": "DisplayMagics",
        "js": "DisplayMagics",
        "latex": "DisplayMagics",
        "markdown": "DisplayMagics",
        "perl": "Other",
        "prun": "ExecutionMagics",
        "pypy": "Other",
        "python": "Other",
        "python2": "Other",
        "python3": "Other",
        "ruby": "Other",
        "script": "ScriptMagics",
        "sh": "Other",
        "svg": "DisplayMagics",
        "sx": "OSMagics",
        "system": "OSMagics",
        "time": "ExecutionMagics",
        "timeit": "ExecutionMagics",
        "writefile": "OSMagics"
       },
       "line": {
        "alias": "OSMagics",
        "alias_magic": "BasicMagics",
        "autoawait": "AsyncMagics",
        "autocall": "AutoMagics",
        "automagic": "AutoMagics",
        "autosave": "KernelMagics",
        "bookmark": "OSMagics",
        "cat": "Other",
        "cd": "OSMagics",
        "clear": "KernelMagics",
        "colors": "BasicMagics",
        "conda": "PackagingMagics",
        "config": "ConfigMagics",
        "connect_info": "KernelMagics",
        "cp": "Other",
        "debug": "ExecutionMagics",
        "dhist": "OSMagics",
        "dirs": "OSMagics",
        "doctest_mode": "BasicMagics",
        "ed": "Other",
        "edit": "KernelMagics",
        "env": "OSMagics",
        "gui": "BasicMagics",
        "hist": "Other",
        "history": "HistoryMagics",
        "killbgscripts": "ScriptMagics",
        "ldir": "Other",
        "less": "KernelMagics",
        "lf": "Other",
        "lk": "Other",
        "ll": "Other",
        "load": "CodeMagics",
        "load_ext": "ExtensionMagics",
        "loadpy": "CodeMagics",
        "logoff": "LoggingMagics",
        "logon": "LoggingMagics",
        "logstart": "LoggingMagics",
        "logstate": "LoggingMagics",
        "logstop": "LoggingMagics",
        "ls": "Other",
        "lsmagic": "BasicMagics",
        "lx": "Other",
        "macro": "ExecutionMagics",
        "magic": "BasicMagics",
        "man": "KernelMagics",
        "matplotlib": "PylabMagics",
        "mkdir": "Other",
        "more": "KernelMagics",
        "mv": "Other",
        "notebook": "BasicMagics",
        "page": "BasicMagics",
        "pastebin": "CodeMagics",
        "pdb": "ExecutionMagics",
        "pdef": "NamespaceMagics",
        "pdoc": "NamespaceMagics",
        "pfile": "NamespaceMagics",
        "pinfo": "NamespaceMagics",
        "pinfo2": "NamespaceMagics",
        "pip": "PackagingMagics",
        "popd": "OSMagics",
        "pprint": "BasicMagics",
        "precision": "BasicMagics",
        "prun": "ExecutionMagics",
        "psearch": "NamespaceMagics",
        "psource": "NamespaceMagics",
        "pushd": "OSMagics",
        "pwd": "OSMagics",
        "pycat": "OSMagics",
        "pylab": "PylabMagics",
        "qtconsole": "KernelMagics",
        "quickref": "BasicMagics",
        "recall": "HistoryMagics",
        "rehashx": "OSMagics",
        "reload_ext": "ExtensionMagics",
        "rep": "Other",
        "rerun": "HistoryMagics",
        "reset": "NamespaceMagics",
        "reset_selective": "NamespaceMagics",
        "rm": "Other",
        "rmdir": "Other",
        "run": "ExecutionMagics",
        "save": "CodeMagics",
        "sc": "OSMagics",
        "set_env": "OSMagics",
        "store": "StoreMagics",
        "sx": "OSMagics",
        "system": "OSMagics",
        "tb": "ExecutionMagics",
        "time": "ExecutionMagics",
        "timeit": "ExecutionMagics",
        "unalias": "OSMagics",
        "unload_ext": "ExtensionMagics",
        "who": "NamespaceMagics",
        "who_ls": "NamespaceMagics",
        "whos": "NamespaceMagics",
        "xdel": "NamespaceMagics",
        "xmode": "BasicMagics"
       }
      },
      "text/plain": [
       "Available line magics:\n",
       "%alias  %alias_magic  %autoawait  %autocall  %automagic  %autosave  %bookmark  %cat  %cd  %clear  %colors  %conda  %config  %connect_info  %cp  %debug  %dhist  %dirs  %doctest_mode  %ed  %edit  %env  %gui  %hist  %history  %killbgscripts  %ldir  %less  %lf  %lk  %ll  %load  %load_ext  %loadpy  %logoff  %logon  %logstart  %logstate  %logstop  %ls  %lsmagic  %lx  %macro  %magic  %man  %matplotlib  %mkdir  %more  %mv  %notebook  %page  %pastebin  %pdb  %pdef  %pdoc  %pfile  %pinfo  %pinfo2  %pip  %popd  %pprint  %precision  %prun  %psearch  %psource  %pushd  %pwd  %pycat  %pylab  %qtconsole  %quickref  %recall  %rehashx  %reload_ext  %rep  %rerun  %reset  %reset_selective  %rm  %rmdir  %run  %save  %sc  %set_env  %store  %sx  %system  %tb  %time  %timeit  %unalias  %unload_ext  %who  %who_ls  %whos  %xdel  %xmode\n",
       "\n",
       "Available cell magics:\n",
       "%%!  %%HTML  %%SVG  %%bash  %%capture  %%debug  %%file  %%html  %%javascript  %%js  %%latex  %%markdown  %%perl  %%prun  %%pypy  %%python  %%python2  %%python3  %%ruby  %%script  %%sh  %%svg  %%sx  %%system  %%time  %%timeit  %%writefile\n",
       "\n",
       "Automagic is ON, % prefix IS NOT needed for line magics."
      ]
     },
     "execution_count": 1,
     "metadata": {},
     "output_type": "execute_result"
    }
   ],
   "source": [
    "%lsmagic"
   ]
  },
  {
   "cell_type": "markdown",
   "id": "031ea873",
   "metadata": {},
   "source": [
    "##### Время потраченное на выполнение команды!"
   ]
  },
  {
   "cell_type": "code",
   "execution_count": 2,
   "id": "8013eeab",
   "metadata": {},
   "outputs": [
    {
     "name": "stdout",
     "output_type": "stream",
     "text": [
      "248 ns ± 6.98 ns per loop (mean ± std. dev. of 7 runs, 1,000,000 loops each)\n"
     ]
    }
   ],
   "source": [
    "%timeit 2**128"
   ]
  },
  {
   "cell_type": "markdown",
   "id": "5a0a5750",
   "metadata": {},
   "source": [
    "##### Поставить библиотеку"
   ]
  },
  {
   "cell_type": "code",
   "execution_count": null,
   "id": "ea42acbb",
   "metadata": {},
   "outputs": [],
   "source": [
    "%pip install matplotlib"
   ]
  },
  {
   "cell_type": "markdown",
   "id": "64c705cd",
   "metadata": {},
   "source": [
    "##### Выполнение в запущенном терминале"
   ]
  },
  {
   "cell_type": "code",
   "execution_count": 3,
   "id": "ecca1594",
   "metadata": {},
   "outputs": [
    {
     "name": "stdout",
     "output_type": "stream",
     "text": [
      "Python 3.9.12\r\n"
     ]
    }
   ],
   "source": [
    "!python --version"
   ]
  },
  {
   "cell_type": "code",
   "execution_count": 8,
   "id": "67fa3636",
   "metadata": {},
   "outputs": [],
   "source": [
    "from copy import copy\n",
    "a = [1,2,3,4,5]\n",
    "d = copy(a)"
   ]
  },
  {
   "cell_type": "code",
   "execution_count": 9,
   "id": "da985fdb",
   "metadata": {},
   "outputs": [
    {
     "data": {
      "text/plain": [
       "[1, 2, 3, 4, 5]"
      ]
     },
     "execution_count": 9,
     "metadata": {},
     "output_type": "execute_result"
    }
   ],
   "source": [
    "d"
   ]
  },
  {
   "cell_type": "markdown",
   "id": "de8a0f7d",
   "metadata": {},
   "source": [
    "##### if-else"
   ]
  },
  {
   "cell_type": "code",
   "execution_count": 11,
   "id": "6235cfd3",
   "metadata": {},
   "outputs": [
    {
     "name": "stdout",
     "output_type": "stream",
     "text": [
      "Positive\n"
     ]
    }
   ],
   "source": [
    "x = 1\n",
    "\n",
    "if x < 0:\n",
    "    print('Negative') \n",
    "elif x == 0:\n",
    "    print('Zero')  \n",
    "else:\n",
    "    print('Positive')"
   ]
  },
  {
   "cell_type": "markdown",
   "id": "3ed715d3",
   "metadata": {},
   "source": [
    "##### Ternary operator"
   ]
  },
  {
   "cell_type": "code",
   "execution_count": 12,
   "id": "2bcecece",
   "metadata": {},
   "outputs": [
    {
     "name": "stdout",
     "output_type": "stream",
     "text": [
      "One\n"
     ]
    }
   ],
   "source": [
    "x = 1\n",
    "\n",
    "a = 'One' if x > 0 else 'Two'\n",
    "print(a)"
   ]
  },
  {
   "cell_type": "markdown",
   "id": "340be36c",
   "metadata": {},
   "source": [
    "##### While cycle"
   ]
  },
  {
   "cell_type": "code",
   "execution_count": 13,
   "id": "e0165fe8",
   "metadata": {},
   "outputs": [
    {
     "name": "stdout",
     "output_type": "stream",
     "text": [
      "1\n"
     ]
    }
   ],
   "source": [
    "x = 1\n",
    "\n",
    "while x > 0:\n",
    "    print(x)\n",
    "    x-=1"
   ]
  },
  {
   "cell_type": "markdown",
   "id": "a48bc066",
   "metadata": {},
   "source": [
    "##### For cycle"
   ]
  },
  {
   "cell_type": "code",
   "execution_count": 14,
   "id": "a4bd64cf",
   "metadata": {},
   "outputs": [
    {
     "name": "stdout",
     "output_type": "stream",
     "text": [
      "1\n",
      "1\n",
      "1\n",
      "1\n",
      "1\n"
     ]
    }
   ],
   "source": [
    "x = 1\n",
    "\n",
    "for _ in range(5):\n",
    "    print(x)"
   ]
  },
  {
   "cell_type": "markdown",
   "id": "f3ed4cec",
   "metadata": {},
   "source": [
    "##### List comprehension"
   ]
  },
  {
   "cell_type": "code",
   "execution_count": 16,
   "id": "b723a757",
   "metadata": {},
   "outputs": [
    {
     "name": "stdout",
     "output_type": "stream",
     "text": [
      "[0, 1, 4, 9, 16]\n"
     ]
    }
   ],
   "source": [
    "x = 1\n",
    "\n",
    "b = [x**2 for x in range(5)]\n",
    "print(b)"
   ]
  },
  {
   "cell_type": "markdown",
   "id": "6fc2ee6a",
   "metadata": {},
   "source": [
    "##### Function"
   ]
  },
  {
   "cell_type": "code",
   "execution_count": 22,
   "id": "3a6978d0",
   "metadata": {},
   "outputs": [
    {
     "name": "stdout",
     "output_type": "stream",
     "text": [
      "2\n",
      "11.15\n",
      "6\n"
     ]
    }
   ],
   "source": [
    "def plus_one(x: int) -> int:\n",
    "    '''Функция автоинкримента'''\n",
    "    return x + 1\n",
    "\n",
    "print(plus_one(1))\n",
    "print(plus_one(10.15))\n",
    "print(plus_one(5))"
   ]
  },
  {
   "cell_type": "code",
   "execution_count": 23,
   "id": "85fdc748",
   "metadata": {},
   "outputs": [
    {
     "data": {
      "text/plain": [
       "6"
      ]
     },
     "execution_count": 23,
     "metadata": {},
     "output_type": "execute_result"
    }
   ],
   "source": [
    "def plus_one(x): return x + 1\n",
    "    '''Функция в одну строку'''\n",
    "\n",
    "plus_one(5)"
   ]
  },
  {
   "cell_type": "code",
   "execution_count": 27,
   "id": "e143f807",
   "metadata": {},
   "outputs": [
    {
     "data": {
      "text/plain": [
       "6"
      ]
     },
     "execution_count": 27,
     "metadata": {},
     "output_type": "execute_result"
    }
   ],
   "source": [
    "    '''Анонимная функция'''\n",
    "(lambda x: x + 1) (5)"
   ]
  },
  {
   "cell_type": "code",
   "execution_count": 28,
   "id": "6279043a",
   "metadata": {},
   "outputs": [
    {
     "data": {
      "text/plain": [
       "7"
      ]
     },
     "execution_count": 28,
     "metadata": {},
     "output_type": "execute_result"
    }
   ],
   "source": [
    "    '''Анонимная, больше не анонимная'''\n",
    "fun = lambda x: x + 1\n",
    "fun(6)"
   ]
  },
  {
   "cell_type": "markdown",
   "id": "b5ffacce",
   "metadata": {},
   "source": [
    "#####  Containers in python"
   ]
  },
  {
   "cell_type": "code",
   "execution_count": 33,
   "id": "e09dc469",
   "metadata": {},
   "outputs": [
    {
     "name": "stdout",
     "output_type": "stream",
     "text": [
      "(1, 2.1, 'x')\n",
      "range(0, 10)\n",
      "b'\\x03\\x01\\x04\\x05\\x01\\x05'\n",
      "[1, 2, 3]\n",
      "{1: 'One', 2: 'Two', 3: 'Three'}\n",
      "{1, 2, 3}\n",
      "bytearray(b'\\x03\\x02\\x01\\x05\\x04\\x01')\n"
     ]
    }
   ],
   "source": [
    "c_tpl = (1,2.1, 'x')\n",
    "c_rng = range(10)\n",
    "c_fst = frozenset({1,2,3})\n",
    "c_bts = bytes((3,1,4,5,1,5))\n",
    "c_lst = [1,2,3]\n",
    "c_dct = {1: 'One', 2: 'Two', 3: 'Three'}\n",
    "c_set = {1,2,3}\n",
    "c_bar = bytearray((3,2,1,5,4,1))\n",
    "\n",
    "print(c_tpl)\n",
    "print(c_rng)\n",
    "print(c_bts)\n",
    "print(c_lst)\n",
    "print(c_dct)\n",
    "print(c_set)\n",
    "print(c_bar)"
   ]
  },
  {
   "cell_type": "code",
   "execution_count": 35,
   "id": "191489be",
   "metadata": {},
   "outputs": [
    {
     "data": {
      "text/plain": [
       "Point(x=1, y=2)"
      ]
     },
     "execution_count": 35,
     "metadata": {},
     "output_type": "execute_result"
    }
   ],
   "source": [
    "from collections import namedtuple\n",
    "Point = namedtuple('Point', ['x', 'y'])\n",
    "p = Point(1,2)\n",
    "\n",
    "p"
   ]
  },
  {
   "cell_type": "code",
   "execution_count": 37,
   "id": "4fe63a6f",
   "metadata": {},
   "outputs": [
    {
     "data": {
      "text/plain": [
       "Counter({'h': 1, 'e': 1, 'l': 3, 'o': 2, 'w': 2, ' ': 1, 'r': 1, 'd': 1})"
      ]
     },
     "execution_count": 37,
     "metadata": {},
     "output_type": "execute_result"
    }
   ],
   "source": [
    "from collections import Counter\n",
    "s = 'hellow world'\n",
    "c = Counter(s)\n",
    "c"
   ]
  },
  {
   "cell_type": "markdown",
   "id": "ae16d087",
   "metadata": {},
   "source": [
    "##### Data class "
   ]
  },
  {
   "cell_type": "code",
   "execution_count": 38,
   "id": "b033299c",
   "metadata": {},
   "outputs": [
    {
     "data": {
      "text/plain": [
       "Structure(name='x', value=2)"
      ]
     },
     "execution_count": 38,
     "metadata": {},
     "output_type": "execute_result"
    }
   ],
   "source": [
    "from dataclasses import dataclass\n",
    "\n",
    "@dataclass\n",
    "class Structure:\n",
    "    name: str\n",
    "    value: float\n",
    "        \n",
    "s = Structure('x', 2)\n",
    "s"
   ]
  },
  {
   "cell_type": "markdown",
   "id": "ab45435a",
   "metadata": {},
   "source": [
    "##### Regular Expression"
   ]
  },
  {
   "cell_type": "code",
   "execution_count": 39,
   "id": "e77a551c",
   "metadata": {},
   "outputs": [
    {
     "data": {
      "text/plain": [
       "('3', '1415926')"
      ]
     },
     "execution_count": 39,
     "metadata": {},
     "output_type": "execute_result"
    }
   ],
   "source": [
    "import re \n",
    "pattern = r\"(\\d+)\\.(\\d+)\"\n",
    "matches = re.match(pattern, '3.1415926')\n",
    "matches.groups()"
   ]
  },
  {
   "cell_type": "markdown",
   "id": "c7165965",
   "metadata": {},
   "source": [
    "##### NumPy"
   ]
  },
  {
   "cell_type": "code",
   "execution_count": null,
   "id": "5d916c0b",
   "metadata": {},
   "outputs": [],
   "source": [
    "    '''Установка на ПК'''\n",
    "sudo apt update -y\n",
    "sudo apt upgrade -y\n",
    "sudo apt install python3-tk python3-pip -y\n",
    "sudo pip install numpy -y\n",
    "     '''Anaconda'''\n",
    "conda install -c anaconda numpy"
   ]
  },
  {
   "cell_type": "code",
   "execution_count": 46,
   "id": "b33a54ee",
   "metadata": {},
   "outputs": [
    {
     "name": "stdout",
     "output_type": "stream",
     "text": [
      "[1 2 3]\n"
     ]
    }
   ],
   "source": [
    "    '''Одномерный массив NumPy'''\n",
    "import numpy as np\n",
    "\n",
    "a = np.array([1,2,3])\n",
    "print(a)"
   ]
  },
  {
   "cell_type": "code",
   "execution_count": 52,
   "id": "4edfcf37",
   "metadata": {},
   "outputs": [
    {
     "name": "stdout",
     "output_type": "stream",
     "text": [
      "array([[1, 2, 3],\n",
      "       [4, 5, 6]])\n"
     ]
    }
   ],
   "source": [
    "    '''Многомерный массив NumPy'''\n",
    "import numpy as np\n",
    "from pprint import pprint\n",
    "\n",
    "a = np.array([[1,2,3],[4,5,6]])\n",
    "pprint(a)"
   ]
  },
  {
   "cell_type": "code",
   "execution_count": 53,
   "id": "f14c91e4",
   "metadata": {},
   "outputs": [
    {
     "name": "stdout",
     "output_type": "stream",
     "text": [
      "2\n"
     ]
    }
   ],
   "source": [
    "    '''Возвращает количество измерений массива'''\n",
    "import numpy as np\n",
    "a = np.array([[1,2,3],[4,5,6]])\n",
    "print(a.ndim)"
   ]
  },
  {
   "cell_type": "code",
   "execution_count": 54,
   "id": "d743927d",
   "metadata": {},
   "outputs": [
    {
     "name": "stdout",
     "output_type": "stream",
     "text": [
      "(2, 3)\n"
     ]
    }
   ],
   "source": [
    "    '''Возвращает кортеж размера массива,\n",
    "       n — это количество строк,\n",
    "       m — количество колонок'''\n",
    "import numpy as np\n",
    "a = np.array([[1,2,3],[4,5,6]])\n",
    "print(a.shape)"
   ]
  },
  {
   "cell_type": "code",
   "execution_count": 55,
   "id": "ebc58a26",
   "metadata": {},
   "outputs": [
    {
     "name": "stdout",
     "output_type": "stream",
     "text": [
      "6\n"
     ]
    }
   ],
   "source": [
    "    '''общее количество элементов в массиве'''\n",
    "import numpy as np\n",
    "a = np.array([[1,2,3],[4,5,6]])\n",
    "print(a.size)"
   ]
  },
  {
   "cell_type": "code",
   "execution_count": 56,
   "id": "3d2ce8ac",
   "metadata": {},
   "outputs": [
    {
     "name": "stdout",
     "output_type": "stream",
     "text": [
      "int64\n"
     ]
    }
   ],
   "source": [
    "    '''Возвращает объект, описывающий тип элементов в массиве'''\n",
    "import numpy as np\n",
    "a = np.array([[1,2,3],[4,5,6]])\n",
    "print(a.dtype)"
   ]
  },
  {
   "cell_type": "code",
   "execution_count": 59,
   "id": "445e9c0b",
   "metadata": {},
   "outputs": [
    {
     "name": "stdout",
     "output_type": "stream",
     "text": [
      "8\n"
     ]
    }
   ],
   "source": [
    "    '''Возвращает размер каждого элемента в массиве в байтах'''\n",
    "import numpy as np\n",
    "a = np.array([[1,2,3],[4,5,6]])\n",
    "print(a.itemsize)"
   ]
  },
  {
   "cell_type": "code",
   "execution_count": 60,
   "id": "34bc1a48",
   "metadata": {},
   "outputs": [
    {
     "name": "stdout",
     "output_type": "stream",
     "text": [
      "<memory at 0x7f95fa152110>\n"
     ]
    }
   ],
   "source": [
    "    '''Возвращает буфер с актуальными элементами массива'''\n",
    "import numpy as np\n",
    "a = np.array([[1,2,3],[4,5,6]])\n",
    "print(a.data)"
   ]
  },
  {
   "cell_type": "markdown",
   "id": "8da2ad07",
   "metadata": {},
   "source": [
    "##### NLTK"
   ]
  },
  {
   "cell_type": "code",
   "execution_count": 72,
   "id": "990beec5",
   "metadata": {},
   "outputs": [
    {
     "name": "stdout",
     "output_type": "stream",
     "text": [
      "showing info https://raw.githubusercontent.com/nltk/nltk_data/gh-pages/index.xml\n"
     ]
    },
    {
     "data": {
      "text/plain": [
       "True"
      ]
     },
     "execution_count": 72,
     "metadata": {},
     "output_type": "execute_result"
    }
   ],
   "source": [
    "import nltk\n",
    "\n",
    "nltk.download()"
   ]
  },
  {
   "cell_type": "code",
   "execution_count": 118,
   "id": "c24108ac",
   "metadata": {},
   "outputs": [],
   "source": [
    "text = \"\"\"Backgammon is one of the oldest known board games. Its history can be traced back nearly 5,000 years to archeological discoveries in the Middle East. It is a two player game where each player has fifteen checkers which move between twenty-four points according to the roll of two dice.\"\"\"\n",
    "text_ru = \"\"\"\\n\\r\\n\\t Вы когда-нибудь давали рекомендации на сотрудника или коллегу? Если да, то вам скорее всего знакомо это чувство неловкости — что же сказать? Вспомнить косяки разные, как из-за него контракт важный сорвался? Или наоборот — в лучшем свете подать, ведь человек-то неплохой, зачем ему жизнь портить?\\r\\n\\n\\r\\n\\t Именно это чувствуют люди, когда вы звоните им, чтобы получить рекомендации. И чаще всего выбирают «подать в лучшем свете», либо стараются ответить как-то обтекаемо, невнятно. Услышать в ответ негатив можно только в случае совсем уж тяжёлом, со скандальной предысторией.\\r\\n\\n\\r\\n\\t В итоге и ценность таких «рекомендаций» невелика, и ваши усилия тратятся не очень эффективно.\\r\\n\\n\\r\\n\\t Но парадокс в том, что вы сами порождаете эту неэффективность. Вернее, даже не вы, а само вот это слово — «рекомендация».\\r\\n\\n\\r\\n\\t Оно сразу настраивает собеседника на то, что он должен вам что-то порекомендовать или не порекомендовать. А это ответственность — и перед бывшим коллегой — вашим соискателем, и перед вами. А ответственности никто не любит.\\r\\n\\n\\nКак быть?\\n\\n\\r\\n\\t Не используйте слово «рекомендация».\\r\\n\\n\\r\\n\\t Вам ведь не она нужна. Вам нужно получить ответы на некоторые конкретные вопросы: действительно ли соискатель делал то, что заявляет, правда ли, что у него не было конфликтов с коллегами, верна ли названная причина увольнения и тому подобное.\\r\\n\\n\\n\\r\\n\\t\\t Конечно, можно заменять слово «рекомендация» — говорить «отзыв», «мнение», «впечатление». Но лучше — не ставьте собеседника на зыбучую почву из субъективных оценок и выдачи характеристик (или делайте это как можно реже).\\r\\n\\t\\n\\nНапример, формулировка «подтверждение информации» позволяет и снизить дискомфорт собеседника, и завязать разговор, и сразу направить его в объективное русло:\\n\\n«Мы сейчас общаемся по поводу трудоустройства с Емельяном Печкиным, вашим бывшим коллегой, хотели бы подтвердить некоторую информацию».\\n \"\"\""
   ]
  },
  {
   "cell_type": "code",
   "execution_count": 77,
   "id": "81ab8460",
   "metadata": {},
   "outputs": [
    {
     "data": {
      "text/plain": [
       "['Backgammon is one of the oldest known board games.',\n",
       " 'Its history can be traced back nearly 5,000 years to archeological discoveries in the Middle East.',\n",
       " 'It is a two player game where each player has fifteen checkers which move between twenty-four points according to the roll of two dice.']"
      ]
     },
     "execution_count": 77,
     "metadata": {},
     "output_type": "execute_result"
    }
   ],
   "source": [
    "    '''Токенизация по предложениям'''\n",
    "from nltk.tokenize import sent_tokenize\n",
    "res = sent_tokenize(text)\n",
    "res"
   ]
  },
  {
   "cell_type": "code",
   "execution_count": 86,
   "id": "5a16a9d7",
   "metadata": {},
   "outputs": [
    {
     "data": {
      "text/plain": [
       "['Backgammon',\n",
       " 'is',\n",
       " 'one',\n",
       " 'of',\n",
       " 'the',\n",
       " 'oldest',\n",
       " 'known',\n",
       " 'board',\n",
       " 'games',\n",
       " '.',\n",
       " 'Its',\n",
       " 'history',\n",
       " 'can',\n",
       " 'be',\n",
       " 'traced',\n",
       " 'back',\n",
       " 'nearly',\n",
       " '5,000',\n",
       " 'years',\n",
       " 'to',\n",
       " 'archeological',\n",
       " 'discoveries',\n",
       " 'in',\n",
       " 'the',\n",
       " 'Middle',\n",
       " 'East',\n",
       " '.',\n",
       " 'It',\n",
       " 'is',\n",
       " 'a',\n",
       " 'two',\n",
       " 'player',\n",
       " 'game',\n",
       " 'where',\n",
       " 'each',\n",
       " 'player',\n",
       " 'has',\n",
       " 'fifteen',\n",
       " 'checkers',\n",
       " 'which',\n",
       " 'move',\n",
       " 'between',\n",
       " 'twenty-four',\n",
       " 'points',\n",
       " 'according',\n",
       " 'to',\n",
       " 'the',\n",
       " 'roll',\n",
       " 'of',\n",
       " 'two',\n",
       " 'dice',\n",
       " '.']"
      ]
     },
     "execution_count": 86,
     "metadata": {},
     "output_type": "execute_result"
    }
   ],
   "source": [
    "    '''Токенизация по словам'''\n",
    "import nltk\n",
    "res = nltk.word_tokenize(text)\n",
    "res"
   ]
  },
  {
   "cell_type": "code",
   "execution_count": 90,
   "id": "9afe492e",
   "metadata": {},
   "outputs": [
    {
     "data": {
      "text/plain": [
       "FreqDist({' ': 48, 'e': 30, 'o': 20, 'a': 19, 't': 18, 'c': 14, 'r': 14, 'i': 13, 's': 13, 'n': 12, ...})"
      ]
     },
     "execution_count": 90,
     "metadata": {},
     "output_type": "execute_result"
    }
   ],
   "source": [
    "    '''Распределение частот вхождения отдельных токенов'''\n",
    "from nltk.probability import FreqDist\n",
    "res = FreqDist(text)\n",
    "res"
   ]
  },
  {
   "cell_type": "code",
   "execution_count": 111,
   "id": "f94fa48e",
   "metadata": {},
   "outputs": [
    {
     "name": "stdout",
     "output_type": "stream",
     "text": [
      "backgammon\n",
      "is\n",
      "one\n",
      "of\n",
      "the\n",
      "oldest\n",
      "known\n",
      "board\n",
      "game\n",
      ".\n",
      "it\n",
      "histori\n",
      "can\n",
      "be\n",
      "trace\n",
      "back\n",
      "nearli\n",
      "5,000\n",
      "year\n",
      "to\n",
      "archeolog\n",
      "discoveri\n",
      "in\n",
      "the\n",
      "middl\n",
      "east\n",
      ".\n",
      "it\n",
      "is\n",
      "a\n",
      "two\n",
      "player\n",
      "game\n",
      "where\n",
      "each\n",
      "player\n",
      "ha\n",
      "fifteen\n",
      "checker\n",
      "which\n",
      "move\n",
      "between\n",
      "twenty-four\n",
      "point\n",
      "accord\n",
      "to\n",
      "the\n",
      "roll\n",
      "of\n",
      "two\n",
      "dice\n",
      ".\n"
     ]
    }
   ],
   "source": [
    "    '''Stemming'''\n",
    "from nltk.stem import PorterStemmer\n",
    "\n",
    "#-- делим на токены --#\n",
    "resToken = nltk.word_tokenize(text)\n",
    "\n",
    "stemmer = PorterStemmer()\n",
    "\n",
    "for word in resToken:\n",
    "        print(stemmer.stem(word))"
   ]
  },
  {
   "cell_type": "code",
   "execution_count": 113,
   "id": "0c1aa930",
   "metadata": {},
   "outputs": [
    {
     "name": "stdout",
     "output_type": "stream",
     "text": [
      "Backgammon\n",
      "is\n",
      "one\n",
      "of\n",
      "the\n",
      "oldest\n",
      "known\n",
      "board\n",
      "game\n",
      ".\n",
      "Its\n",
      "history\n",
      "can\n",
      "be\n",
      "traced\n",
      "back\n",
      "nearly\n",
      "5,000\n",
      "year\n",
      "to\n",
      "archeological\n",
      "discovery\n",
      "in\n",
      "the\n",
      "Middle\n",
      "East\n",
      ".\n",
      "It\n",
      "is\n",
      "a\n",
      "two\n",
      "player\n",
      "game\n",
      "where\n",
      "each\n",
      "player\n",
      "ha\n",
      "fifteen\n",
      "checker\n",
      "which\n",
      "move\n",
      "between\n",
      "twenty-four\n",
      "point\n",
      "according\n",
      "to\n",
      "the\n",
      "roll\n",
      "of\n",
      "two\n",
      "dice\n",
      ".\n"
     ]
    }
   ],
   "source": [
    "    '''Lemmatization'''\n",
    "from nltk.stem import WordNetLemmatizer\n",
    "\n",
    "#-- делим на токены --#\n",
    "resToken = nltk.word_tokenize(text)\n",
    "\n",
    "lemmet = WordNetLemmatizer()\n",
    "\n",
    "for word in resToken:\n",
    "        print(lemmet.lemmatize(word))"
   ]
  },
  {
   "cell_type": "markdown",
   "id": "6cd2f1a9",
   "metadata": {},
   "source": [
    "##### Pymorphy2"
   ]
  },
  {
   "cell_type": "code",
   "execution_count": 114,
   "id": "fac43268",
   "metadata": {},
   "outputs": [
    {
     "name": "stdout",
     "output_type": "stream",
     "text": [
      "Requirement already satisfied: pymorphy2 in /home/oleg/anaconda3/lib/python3.9/site-packages (0.9.1)\n",
      "Requirement already satisfied: pymorphy2-dicts-ru<3.0,>=2.4 in /home/oleg/anaconda3/lib/python3.9/site-packages (from pymorphy2) (2.4.417127.4579844)\n",
      "Requirement already satisfied: dawg-python>=0.7.1 in /home/oleg/anaconda3/lib/python3.9/site-packages (from pymorphy2) (0.7.2)\n",
      "Requirement already satisfied: docopt>=0.6 in /home/oleg/anaconda3/lib/python3.9/site-packages (from pymorphy2) (0.6.2)\n",
      "Note: you may need to restart the kernel to use updated packages.\n"
     ]
    }
   ],
   "source": [
    "    '''Поставим pymorphy2'''\n",
    "%pip install pymorphy2"
   ]
  },
  {
   "cell_type": "code",
   "execution_count": 120,
   "id": "447cbce2",
   "metadata": {},
   "outputs": [
    {
     "data": {
      "text/plain": [
       "[Parse(word='привет мир!', tag=OpencorporaTag('UNKN'), normal_form='привет мир!', score=1.0, methods_stack=((UnknAnalyzer(), 'Привет мир!'),))]"
      ]
     },
     "execution_count": 120,
     "metadata": {},
     "output_type": "execute_result"
    }
   ],
   "source": [
    "from pymorphy2 import MorphAnalyzer\n",
    "\n",
    "morph = MorphAnalyzer()\n",
    "\n",
    "morph.parse('Привет мир!')"
   ]
  },
  {
   "cell_type": "code",
   "execution_count": 123,
   "id": "3ccbd812",
   "metadata": {},
   "outputs": [
    {
     "data": {
      "text/plain": [
       "['\\n\\r\\n\\t Вы когда-нибудь давали рекомендации на сотрудника или коллегу?',\n",
       " 'Если да, то вам скорее всего знакомо это чувство неловкости — что же сказать?',\n",
       " 'Вспомнить косяки разные, как из-за него контракт важный сорвался?',\n",
       " 'Или наоборот — в лучшем свете подать, ведь человек-то неплохой, зачем ему жизнь портить?',\n",
       " 'Именно это чувствуют люди, когда вы звоните им, чтобы получить рекомендации.',\n",
       " 'И чаще всего выбирают «подать в лучшем свете», либо стараются ответить как-то обтекаемо, невнятно.',\n",
       " 'Услышать в ответ негатив можно только в случае совсем уж тяжёлом, со скандальной предысторией.',\n",
       " 'В итоге и ценность таких «рекомендаций» невелика, и ваши усилия тратятся не очень эффективно.',\n",
       " 'Но парадокс в том, что вы сами порождаете эту неэффективность.',\n",
       " 'Вернее, даже не вы, а само вот это слово — «рекомендация».',\n",
       " 'Оно сразу настраивает собеседника на то, что он должен вам что-то порекомендовать или не порекомендовать.',\n",
       " 'А это ответственность — и перед бывшим коллегой — вашим соискателем, и перед вами.',\n",
       " 'А ответственности никто не любит.',\n",
       " 'Как быть?',\n",
       " 'Не используйте слово «рекомендация».',\n",
       " 'Вам ведь не она нужна.',\n",
       " 'Вам нужно получить ответы на некоторые конкретные вопросы: действительно ли соискатель делал то, что заявляет, правда ли, что у него не было конфликтов с коллегами, верна ли названная причина увольнения и тому подобное.',\n",
       " 'Конечно, можно заменять слово «рекомендация» — говорить «отзыв», «мнение», «впечатление».',\n",
       " 'Но лучше — не ставьте собеседника на зыбучую почву из субъективных оценок и выдачи характеристик (или делайте это как можно реже).',\n",
       " 'Например, формулировка «подтверждение информации» позволяет и снизить дискомфорт собеседника, и завязать разговор, и сразу направить его в объективное русло:\\n\\n«Мы сейчас общаемся по поводу трудоустройства с Емельяном Печкиным, вашим бывшим коллегой, хотели бы подтвердить некоторую информацию».']"
      ]
     },
     "execution_count": 123,
     "metadata": {},
     "output_type": "execute_result"
    }
   ],
   "source": [
    "#-- делим на токены предложения используя NLTK --#\n",
    "resToken = nltk.sent_tokenize(text_ru)\n",
    "resToken"
   ]
  },
  {
   "cell_type": "code",
   "execution_count": 124,
   "id": "40326ea5",
   "metadata": {},
   "outputs": [
    {
     "data": {
      "text/plain": [
       "['Вы',\n",
       " 'когда-нибудь',\n",
       " 'давали',\n",
       " 'рекомендации',\n",
       " 'на',\n",
       " 'сотрудника',\n",
       " 'или',\n",
       " 'коллегу',\n",
       " '?',\n",
       " 'Если',\n",
       " 'да',\n",
       " ',',\n",
       " 'то',\n",
       " 'вам',\n",
       " 'скорее',\n",
       " 'всего',\n",
       " 'знакомо',\n",
       " 'это',\n",
       " 'чувство',\n",
       " 'неловкости',\n",
       " '—',\n",
       " 'что',\n",
       " 'же',\n",
       " 'сказать',\n",
       " '?',\n",
       " 'Вспомнить',\n",
       " 'косяки',\n",
       " 'разные',\n",
       " ',',\n",
       " 'как',\n",
       " 'из-за',\n",
       " 'него',\n",
       " 'контракт',\n",
       " 'важный',\n",
       " 'сорвался',\n",
       " '?',\n",
       " 'Или',\n",
       " 'наоборот',\n",
       " '—',\n",
       " 'в',\n",
       " 'лучшем',\n",
       " 'свете',\n",
       " 'подать',\n",
       " ',',\n",
       " 'ведь',\n",
       " 'человек-то',\n",
       " 'неплохой',\n",
       " ',',\n",
       " 'зачем',\n",
       " 'ему',\n",
       " 'жизнь',\n",
       " 'портить',\n",
       " '?',\n",
       " 'Именно',\n",
       " 'это',\n",
       " 'чувствуют',\n",
       " 'люди',\n",
       " ',',\n",
       " 'когда',\n",
       " 'вы',\n",
       " 'звоните',\n",
       " 'им',\n",
       " ',',\n",
       " 'чтобы',\n",
       " 'получить',\n",
       " 'рекомендации',\n",
       " '.',\n",
       " 'И',\n",
       " 'чаще',\n",
       " 'всего',\n",
       " 'выбирают',\n",
       " '«',\n",
       " 'подать',\n",
       " 'в',\n",
       " 'лучшем',\n",
       " 'свете',\n",
       " '»',\n",
       " ',',\n",
       " 'либо',\n",
       " 'стараются',\n",
       " 'ответить',\n",
       " 'как-то',\n",
       " 'обтекаемо',\n",
       " ',',\n",
       " 'невнятно',\n",
       " '.',\n",
       " 'Услышать',\n",
       " 'в',\n",
       " 'ответ',\n",
       " 'негатив',\n",
       " 'можно',\n",
       " 'только',\n",
       " 'в',\n",
       " 'случае',\n",
       " 'совсем',\n",
       " 'уж',\n",
       " 'тяжёлом',\n",
       " ',',\n",
       " 'со',\n",
       " 'скандальной',\n",
       " 'предысторией',\n",
       " '.',\n",
       " 'В',\n",
       " 'итоге',\n",
       " 'и',\n",
       " 'ценность',\n",
       " 'таких',\n",
       " '«',\n",
       " 'рекомендаций',\n",
       " '»',\n",
       " 'невелика',\n",
       " ',',\n",
       " 'и',\n",
       " 'ваши',\n",
       " 'усилия',\n",
       " 'тратятся',\n",
       " 'не',\n",
       " 'очень',\n",
       " 'эффективно',\n",
       " '.',\n",
       " 'Но',\n",
       " 'парадокс',\n",
       " 'в',\n",
       " 'том',\n",
       " ',',\n",
       " 'что',\n",
       " 'вы',\n",
       " 'сами',\n",
       " 'порождаете',\n",
       " 'эту',\n",
       " 'неэффективность',\n",
       " '.',\n",
       " 'Вернее',\n",
       " ',',\n",
       " 'даже',\n",
       " 'не',\n",
       " 'вы',\n",
       " ',',\n",
       " 'а',\n",
       " 'само',\n",
       " 'вот',\n",
       " 'это',\n",
       " 'слово',\n",
       " '—',\n",
       " '«',\n",
       " 'рекомендация',\n",
       " '»',\n",
       " '.',\n",
       " 'Оно',\n",
       " 'сразу',\n",
       " 'настраивает',\n",
       " 'собеседника',\n",
       " 'на',\n",
       " 'то',\n",
       " ',',\n",
       " 'что',\n",
       " 'он',\n",
       " 'должен',\n",
       " 'вам',\n",
       " 'что-то',\n",
       " 'порекомендовать',\n",
       " 'или',\n",
       " 'не',\n",
       " 'порекомендовать',\n",
       " '.',\n",
       " 'А',\n",
       " 'это',\n",
       " 'ответственность',\n",
       " '—',\n",
       " 'и',\n",
       " 'перед',\n",
       " 'бывшим',\n",
       " 'коллегой',\n",
       " '—',\n",
       " 'вашим',\n",
       " 'соискателем',\n",
       " ',',\n",
       " 'и',\n",
       " 'перед',\n",
       " 'вами',\n",
       " '.',\n",
       " 'А',\n",
       " 'ответственности',\n",
       " 'никто',\n",
       " 'не',\n",
       " 'любит',\n",
       " '.',\n",
       " 'Как',\n",
       " 'быть',\n",
       " '?',\n",
       " 'Не',\n",
       " 'используйте',\n",
       " 'слово',\n",
       " '«',\n",
       " 'рекомендация',\n",
       " '»',\n",
       " '.',\n",
       " 'Вам',\n",
       " 'ведь',\n",
       " 'не',\n",
       " 'она',\n",
       " 'нужна',\n",
       " '.',\n",
       " 'Вам',\n",
       " 'нужно',\n",
       " 'получить',\n",
       " 'ответы',\n",
       " 'на',\n",
       " 'некоторые',\n",
       " 'конкретные',\n",
       " 'вопросы',\n",
       " ':',\n",
       " 'действительно',\n",
       " 'ли',\n",
       " 'соискатель',\n",
       " 'делал',\n",
       " 'то',\n",
       " ',',\n",
       " 'что',\n",
       " 'заявляет',\n",
       " ',',\n",
       " 'правда',\n",
       " 'ли',\n",
       " ',',\n",
       " 'что',\n",
       " 'у',\n",
       " 'него',\n",
       " 'не',\n",
       " 'было',\n",
       " 'конфликтов',\n",
       " 'с',\n",
       " 'коллегами',\n",
       " ',',\n",
       " 'верна',\n",
       " 'ли',\n",
       " 'названная',\n",
       " 'причина',\n",
       " 'увольнения',\n",
       " 'и',\n",
       " 'тому',\n",
       " 'подобное',\n",
       " '.',\n",
       " 'Конечно',\n",
       " ',',\n",
       " 'можно',\n",
       " 'заменять',\n",
       " 'слово',\n",
       " '«',\n",
       " 'рекомендация',\n",
       " '»',\n",
       " '—',\n",
       " 'говорить',\n",
       " '«',\n",
       " 'отзыв',\n",
       " '»',\n",
       " ',',\n",
       " '«',\n",
       " 'мнение',\n",
       " '»',\n",
       " ',',\n",
       " '«',\n",
       " 'впечатление',\n",
       " '»',\n",
       " '.',\n",
       " 'Но',\n",
       " 'лучше',\n",
       " '—',\n",
       " 'не',\n",
       " 'ставьте',\n",
       " 'собеседника',\n",
       " 'на',\n",
       " 'зыбучую',\n",
       " 'почву',\n",
       " 'из',\n",
       " 'субъективных',\n",
       " 'оценок',\n",
       " 'и',\n",
       " 'выдачи',\n",
       " 'характеристик',\n",
       " '(',\n",
       " 'или',\n",
       " 'делайте',\n",
       " 'это',\n",
       " 'как',\n",
       " 'можно',\n",
       " 'реже',\n",
       " ')',\n",
       " '.',\n",
       " 'Например',\n",
       " ',',\n",
       " 'формулировка',\n",
       " '«',\n",
       " 'подтверждение',\n",
       " 'информации',\n",
       " '»',\n",
       " 'позволяет',\n",
       " 'и',\n",
       " 'снизить',\n",
       " 'дискомфорт',\n",
       " 'собеседника',\n",
       " ',',\n",
       " 'и',\n",
       " 'завязать',\n",
       " 'разговор',\n",
       " ',',\n",
       " 'и',\n",
       " 'сразу',\n",
       " 'направить',\n",
       " 'его',\n",
       " 'в',\n",
       " 'объективное',\n",
       " 'русло',\n",
       " ':',\n",
       " '«',\n",
       " 'Мы',\n",
       " 'сейчас',\n",
       " 'общаемся',\n",
       " 'по',\n",
       " 'поводу',\n",
       " 'трудоустройства',\n",
       " 'с',\n",
       " 'Емельяном',\n",
       " 'Печкиным',\n",
       " ',',\n",
       " 'вашим',\n",
       " 'бывшим',\n",
       " 'коллегой',\n",
       " ',',\n",
       " 'хотели',\n",
       " 'бы',\n",
       " 'подтвердить',\n",
       " 'некоторую',\n",
       " 'информацию',\n",
       " '»',\n",
       " '.']"
      ]
     },
     "execution_count": 124,
     "metadata": {},
     "output_type": "execute_result"
    }
   ],
   "source": [
    "#-- делим на токены слова используя NLTK --#\n",
    "resToken = nltk.word_tokenize(text_ru)\n",
    "resToken"
   ]
  },
  {
   "cell_type": "code",
   "execution_count": 132,
   "id": "eba1c810",
   "metadata": {},
   "outputs": [
    {
     "data": {
      "text/plain": [
       "['вы',\n",
       " 'когда-нибудь',\n",
       " 'давать',\n",
       " 'рекомендация',\n",
       " 'на',\n",
       " 'сотрудник',\n",
       " 'или',\n",
       " 'коллега',\n",
       " '?',\n",
       " 'если',\n",
       " 'да',\n",
       " ',',\n",
       " 'то',\n",
       " 'вы',\n",
       " 'скорее',\n",
       " 'весь',\n",
       " 'знакомый',\n",
       " 'это',\n",
       " 'чувство',\n",
       " 'неловкость',\n",
       " '—',\n",
       " 'что',\n",
       " 'же',\n",
       " 'сказать',\n",
       " '?',\n",
       " 'вспомнить',\n",
       " 'косяк',\n",
       " 'разный',\n",
       " ',',\n",
       " 'как',\n",
       " 'из-за',\n",
       " 'он',\n",
       " 'контракт',\n",
       " 'важный',\n",
       " 'сорваться',\n",
       " '?',\n",
       " 'или',\n",
       " 'наоборот',\n",
       " '—',\n",
       " 'в',\n",
       " 'хороший',\n",
       " 'свет',\n",
       " 'подать',\n",
       " ',',\n",
       " 'ведь',\n",
       " 'человек-то',\n",
       " 'неплохой',\n",
       " ',',\n",
       " 'зачем',\n",
       " 'он',\n",
       " 'жизнь',\n",
       " 'портить',\n",
       " '?',\n",
       " 'именно',\n",
       " 'это',\n",
       " 'чувствовать',\n",
       " 'человек',\n",
       " ',',\n",
       " 'когда',\n",
       " 'вы',\n",
       " 'звонить',\n",
       " 'они',\n",
       " ',',\n",
       " 'чтобы',\n",
       " 'получить',\n",
       " 'рекомендация',\n",
       " '.',\n",
       " 'и',\n",
       " 'частый',\n",
       " 'весь',\n",
       " 'выбирать',\n",
       " '«',\n",
       " 'подать',\n",
       " 'в',\n",
       " 'хороший',\n",
       " 'свет',\n",
       " '»',\n",
       " ',',\n",
       " 'либо',\n",
       " 'стараться',\n",
       " 'ответить',\n",
       " 'как-то',\n",
       " 'обтекаемо',\n",
       " ',',\n",
       " 'невнятно',\n",
       " '.',\n",
       " 'услышать',\n",
       " 'в',\n",
       " 'ответ',\n",
       " 'негатив',\n",
       " 'можно',\n",
       " 'только',\n",
       " 'в',\n",
       " 'случай',\n",
       " 'совсем',\n",
       " 'уж',\n",
       " 'тяжёлый',\n",
       " ',',\n",
       " 'с',\n",
       " 'скандальный',\n",
       " 'предыстория',\n",
       " '.',\n",
       " 'в',\n",
       " 'итог',\n",
       " 'и',\n",
       " 'ценность',\n",
       " 'такой',\n",
       " '«',\n",
       " 'рекомендация',\n",
       " '»',\n",
       " 'небольшой',\n",
       " ',',\n",
       " 'и',\n",
       " 'ваш',\n",
       " 'усилие',\n",
       " 'тратиться',\n",
       " 'не',\n",
       " 'очень',\n",
       " 'эффективно',\n",
       " '.',\n",
       " 'но',\n",
       " 'парадокс',\n",
       " 'в',\n",
       " 'тот',\n",
       " ',',\n",
       " 'что',\n",
       " 'вы',\n",
       " 'сам',\n",
       " 'порождать',\n",
       " 'этот',\n",
       " 'неэффективность',\n",
       " '.',\n",
       " 'верный',\n",
       " ',',\n",
       " 'даже',\n",
       " 'не',\n",
       " 'вы',\n",
       " ',',\n",
       " 'а',\n",
       " 'сам',\n",
       " 'вот',\n",
       " 'это',\n",
       " 'слово',\n",
       " '—',\n",
       " '«',\n",
       " 'рекомендация',\n",
       " '»',\n",
       " '.',\n",
       " 'оно',\n",
       " 'сразу',\n",
       " 'настраивать',\n",
       " 'собеседник',\n",
       " 'на',\n",
       " 'то',\n",
       " ',',\n",
       " 'что',\n",
       " 'он',\n",
       " 'должный',\n",
       " 'вы',\n",
       " 'что-то',\n",
       " 'порекомендовать',\n",
       " 'или',\n",
       " 'не',\n",
       " 'порекомендовать',\n",
       " '.',\n",
       " 'а',\n",
       " 'это',\n",
       " 'ответственность',\n",
       " '—',\n",
       " 'и',\n",
       " 'перед',\n",
       " 'бывший',\n",
       " 'коллега',\n",
       " '—',\n",
       " 'ваш',\n",
       " 'соискатель',\n",
       " ',',\n",
       " 'и',\n",
       " 'перед',\n",
       " 'вы',\n",
       " '.',\n",
       " 'а',\n",
       " 'ответственность',\n",
       " 'никто',\n",
       " 'не',\n",
       " 'любить',\n",
       " '.',\n",
       " 'как',\n",
       " 'быть',\n",
       " '?',\n",
       " 'не',\n",
       " 'использовать',\n",
       " 'слово',\n",
       " '«',\n",
       " 'рекомендация',\n",
       " '»',\n",
       " '.',\n",
       " 'вы',\n",
       " 'ведь',\n",
       " 'не',\n",
       " 'она',\n",
       " 'нужный',\n",
       " '.',\n",
       " 'вы',\n",
       " 'нужно',\n",
       " 'получить',\n",
       " 'ответ',\n",
       " 'на',\n",
       " 'некоторый',\n",
       " 'конкретный',\n",
       " 'вопрос',\n",
       " ':',\n",
       " 'действительно',\n",
       " 'ли',\n",
       " 'соискатель',\n",
       " 'делать',\n",
       " 'то',\n",
       " ',',\n",
       " 'что',\n",
       " 'заявлять',\n",
       " ',',\n",
       " 'правда',\n",
       " 'ли',\n",
       " ',',\n",
       " 'что',\n",
       " 'у',\n",
       " 'он',\n",
       " 'не',\n",
       " 'быть',\n",
       " 'конфликт',\n",
       " 'с',\n",
       " 'коллега',\n",
       " ',',\n",
       " 'верный',\n",
       " 'ли',\n",
       " 'назвать',\n",
       " 'причина',\n",
       " 'увольнение',\n",
       " 'и',\n",
       " 'тот',\n",
       " 'подобный',\n",
       " '.',\n",
       " 'конечно',\n",
       " ',',\n",
       " 'можно',\n",
       " 'заменять',\n",
       " 'слово',\n",
       " '«',\n",
       " 'рекомендация',\n",
       " '»',\n",
       " '—',\n",
       " 'говорить',\n",
       " '«',\n",
       " 'отзыв',\n",
       " '»',\n",
       " ',',\n",
       " '«',\n",
       " 'мнение',\n",
       " '»',\n",
       " ',',\n",
       " '«',\n",
       " 'впечатление',\n",
       " '»',\n",
       " '.',\n",
       " 'но',\n",
       " 'хороший',\n",
       " '—',\n",
       " 'не',\n",
       " 'ставить',\n",
       " 'собеседник',\n",
       " 'на',\n",
       " 'зыбучий',\n",
       " 'почва',\n",
       " 'из',\n",
       " 'субъективный',\n",
       " 'оценка',\n",
       " 'и',\n",
       " 'выдача',\n",
       " 'характеристика',\n",
       " '(',\n",
       " 'или',\n",
       " 'делать',\n",
       " 'это',\n",
       " 'как',\n",
       " 'можно',\n",
       " 'редкий',\n",
       " ')',\n",
       " '.',\n",
       " 'например',\n",
       " ',',\n",
       " 'формулировка',\n",
       " '«',\n",
       " 'подтверждение',\n",
       " 'информация',\n",
       " '»',\n",
       " 'позволять',\n",
       " 'и',\n",
       " 'снизить',\n",
       " 'дискомфорт',\n",
       " 'собеседник',\n",
       " ',',\n",
       " 'и',\n",
       " 'завязать',\n",
       " 'разговор',\n",
       " ',',\n",
       " 'и',\n",
       " 'сразу',\n",
       " 'направить',\n",
       " 'он',\n",
       " 'в',\n",
       " 'объективный',\n",
       " 'русло',\n",
       " ':',\n",
       " '«',\n",
       " 'мы',\n",
       " 'сейчас',\n",
       " 'общаться',\n",
       " 'по',\n",
       " 'повод',\n",
       " 'трудоустройство',\n",
       " 'с',\n",
       " 'емельян',\n",
       " 'печкин',\n",
       " ',',\n",
       " 'ваш',\n",
       " 'бывший',\n",
       " 'коллега',\n",
       " ',',\n",
       " 'хотеть',\n",
       " 'бы',\n",
       " 'подтвердить',\n",
       " 'некоторый',\n",
       " 'информация',\n",
       " '»',\n",
       " '.']"
      ]
     },
     "execution_count": 132,
     "metadata": {},
     "output_type": "execute_result"
    }
   ],
   "source": [
    "    '''Лематизация Pymorphy2'''\n",
    "from pymorphy2 import MorphAnalyzer\n",
    "resToken = nltk.word_tokenize(text_ru)\n",
    "morph = MorphAnalyzer()\n",
    "resTextRu = []\n",
    "\n",
    "for word in resToken:\n",
    "        resTextRu.append(morph.parse(word)[0].normal_form)\n",
    "\n",
    "resTextRu"
   ]
  },
  {
   "cell_type": "code",
   "execution_count": 133,
   "id": "ed0fdb81",
   "metadata": {},
   "outputs": [
    {
     "name": "stdout",
     "output_type": "stream",
     "text": [
      "вы\n",
      "когда-нибуд\n",
      "дава\n",
      "рекомендац\n",
      "на\n",
      "сотрудник\n",
      "ил\n",
      "коллег\n",
      "?\n",
      "есл\n",
      "да\n",
      ",\n",
      "то\n",
      "вы\n",
      "скор\n",
      "ве\n",
      "знаком\n",
      "эт\n",
      "чувств\n",
      "неловк\n",
      "—\n",
      "что\n",
      "же\n",
      "сказа\n",
      "?\n",
      "вспомн\n",
      "косяк\n",
      "разн\n",
      ",\n",
      "как\n",
      "из-з\n",
      "он\n",
      "контракт\n",
      "важн\n",
      "сорва\n",
      "?\n",
      "ил\n",
      "наоборот\n",
      "—\n",
      "в\n",
      "хорош\n",
      "свет\n",
      "пода\n",
      ",\n",
      "вед\n",
      "человек-т\n",
      "неплох\n",
      ",\n",
      "зач\n",
      "он\n",
      "жизн\n",
      "порт\n",
      "?\n",
      "имен\n",
      "эт\n",
      "чувствова\n",
      "человек\n",
      ",\n",
      "когд\n",
      "вы\n",
      "звон\n",
      "он\n",
      ",\n",
      "чтоб\n",
      "получ\n",
      "рекомендац\n",
      ".\n",
      "и\n",
      "част\n",
      "ве\n",
      "выбира\n",
      "«\n",
      "пода\n",
      "в\n",
      "хорош\n",
      "свет\n",
      "»\n",
      ",\n",
      "либ\n",
      "стара\n",
      "ответ\n",
      "как-т\n",
      "обтекаем\n",
      ",\n",
      "невнятн\n",
      ".\n",
      "услыша\n",
      "в\n",
      "ответ\n",
      "негат\n",
      "можн\n",
      "тольк\n",
      "в\n",
      "случа\n",
      "совс\n",
      "уж\n",
      "тяжел\n",
      ",\n",
      "с\n",
      "скандальн\n",
      "предыстор\n",
      ".\n",
      "в\n",
      "итог\n",
      "и\n",
      "ценност\n",
      "так\n",
      "«\n",
      "рекомендац\n",
      "»\n",
      "небольш\n",
      ",\n",
      "и\n",
      "ваш\n",
      "усил\n",
      "трат\n",
      "не\n",
      "очен\n",
      "эффективн\n",
      ".\n",
      "но\n",
      "парадокс\n",
      "в\n",
      "тот\n",
      ",\n",
      "что\n",
      "вы\n",
      "сам\n",
      "порожда\n",
      "этот\n",
      "неэффективн\n",
      ".\n",
      "верн\n",
      ",\n",
      "даж\n",
      "не\n",
      "вы\n",
      ",\n",
      "а\n",
      "сам\n",
      "вот\n",
      "эт\n",
      "слов\n",
      "—\n",
      "«\n",
      "рекомендац\n",
      "»\n",
      ".\n",
      "он\n",
      "сраз\n",
      "настраива\n",
      "собеседник\n",
      "на\n",
      "то\n",
      ",\n",
      "что\n",
      "он\n",
      "должн\n",
      "вы\n",
      "что-т\n",
      "порекомендова\n",
      "ил\n",
      "не\n",
      "порекомендова\n",
      ".\n",
      "а\n",
      "эт\n",
      "ответствен\n",
      "—\n",
      "и\n",
      "перед\n",
      "бывш\n",
      "коллег\n",
      "—\n",
      "ваш\n",
      "соискател\n",
      ",\n",
      "и\n",
      "перед\n",
      "вы\n",
      ".\n",
      "а\n",
      "ответствен\n",
      "никт\n",
      "не\n",
      "люб\n",
      ".\n",
      "как\n",
      "быт\n",
      "?\n",
      "не\n",
      "использова\n",
      "слов\n",
      "«\n",
      "рекомендац\n",
      "»\n",
      ".\n",
      "вы\n",
      "вед\n",
      "не\n",
      "он\n",
      "нужн\n",
      ".\n",
      "вы\n",
      "нужн\n",
      "получ\n",
      "ответ\n",
      "на\n",
      "некотор\n",
      "конкретн\n",
      "вопрос\n",
      ":\n",
      "действительн\n",
      "ли\n",
      "соискател\n",
      "дела\n",
      "то\n",
      ",\n",
      "что\n",
      "заявля\n",
      ",\n",
      "правд\n",
      "ли\n",
      ",\n",
      "что\n",
      "у\n",
      "он\n",
      "не\n",
      "быт\n",
      "конфликт\n",
      "с\n",
      "коллег\n",
      ",\n",
      "верн\n",
      "ли\n",
      "назва\n",
      "причин\n",
      "увольнен\n",
      "и\n",
      "тот\n",
      "подобн\n",
      ".\n",
      "конечн\n",
      ",\n",
      "можн\n",
      "заменя\n",
      "слов\n",
      "«\n",
      "рекомендац\n",
      "»\n",
      "—\n",
      "говор\n",
      "«\n",
      "отз\n",
      "»\n",
      ",\n",
      "«\n",
      "мнен\n",
      "»\n",
      ",\n",
      "«\n",
      "впечатлен\n",
      "»\n",
      ".\n",
      "но\n",
      "хорош\n",
      "—\n",
      "не\n",
      "став\n",
      "собеседник\n",
      "на\n",
      "зыбуч\n",
      "почв\n",
      "из\n",
      "субъективн\n",
      "оценк\n",
      "и\n",
      "выдач\n",
      "характеристик\n",
      "(\n",
      "ил\n",
      "дела\n",
      "эт\n",
      "как\n",
      "можн\n",
      "редк\n",
      ")\n",
      ".\n",
      "например\n",
      ",\n",
      "формулировк\n",
      "«\n",
      "подтвержден\n",
      "информац\n",
      "»\n",
      "позволя\n",
      "и\n",
      "сниз\n",
      "дискомфорт\n",
      "собеседник\n",
      ",\n",
      "и\n",
      "завяза\n",
      "разговор\n",
      ",\n",
      "и\n",
      "сраз\n",
      "направ\n",
      "он\n",
      "в\n",
      "объективн\n",
      "русл\n",
      ":\n",
      "«\n",
      "мы\n",
      "сейчас\n",
      "обща\n",
      "по\n",
      "повод\n",
      "трудоустройств\n",
      "с\n",
      "емелья\n",
      "печкин\n",
      ",\n",
      "ваш\n",
      "бывш\n",
      "коллег\n",
      ",\n",
      "хотет\n",
      "бы\n",
      "подтверд\n",
      "некотор\n",
      "информац\n",
      "»\n",
      ".\n"
     ]
    }
   ],
   "source": [
    "    '''Стеминг NLTK'''\n",
    "from nltk.stem import SnowballStemmer\n",
    "resToken = nltk.word_tokenize(text_ru)\n",
    "snowball = SnowballStemmer(language=\"russian\")\n",
    "\n",
    "for word in resTextRu:\n",
    "        print(snowball.stem(word))"
   ]
  }
 ],
 "metadata": {
  "kernelspec": {
   "display_name": "Python 3 (ipykernel)",
   "language": "python",
   "name": "python3"
  },
  "language_info": {
   "codemirror_mode": {
    "name": "ipython",
    "version": 3
   },
   "file_extension": ".py",
   "mimetype": "text/x-python",
   "name": "python",
   "nbconvert_exporter": "python",
   "pygments_lexer": "ipython3",
   "version": "3.9.12"
  }
 },
 "nbformat": 4,
 "nbformat_minor": 5
}
